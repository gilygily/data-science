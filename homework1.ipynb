{
 "cells": [
  {
   "cell_type": "code",
   "execution_count": 5,
   "id": "9b0c1809-c2a7-4117-8663-714d7a3d2b3e",
   "metadata": {},
   "outputs": [],
   "source": [
    "#가구점  Lovely Loveseats\n",
    "#고객의 총 가격과 품목 목록을 처리\n",
    "\n",
    "#의자 설명\n",
    "lovely_loveseat_description = \"Lovely Loveseat. Tufted polyester blend on wood. 32 inches high x 40 inches wide x 30 inches deep. Red or white.\"\n"
   ]
  },
  {
   "cell_type": "code",
   "execution_count": 6,
   "id": "9c5cfd58-1456-4fde-b00d-ce2d42f473de",
   "metadata": {},
   "outputs": [],
   "source": [
    "#의자 가격\n",
    "lovely_loveseat_price = 254.00"
   ]
  },
  {
   "cell_type": "code",
   "execution_count": 7,
   "id": "3ce91927-88a5-44f5-80a8-3867b3d5bd18",
   "metadata": {},
   "outputs": [],
   "source": [
    "#쇼파 설명\n",
    "stylish_settree_description = \"Stylish Settee. Faux leather on birch. 29.50 inches high x 54.75 inches wide x 28 inches deep. Black. \""
   ]
  },
  {
   "cell_type": "code",
   "execution_count": 8,
   "id": "616bc14a-f0fe-4f8b-8df7-1468520214bc",
   "metadata": {},
   "outputs": [],
   "source": [
    "#쇼파 가격\n",
    "stylish_settree_price = 180.50"
   ]
  },
  {
   "cell_type": "code",
   "execution_count": 9,
   "id": "9e5315df-7db6-431c-9693-d429298701e5",
   "metadata": {},
   "outputs": [],
   "source": [
    "#램프 설명\n",
    "luxurious_lamp_description = \"Luxurious Lamp. Glass and iron. 36 inches tall. Brown with cream shade. \""
   ]
  },
  {
   "cell_type": "code",
   "execution_count": 10,
   "id": "6ff4977b-bd24-443b-b895-8bb8e3b17199",
   "metadata": {},
   "outputs": [],
   "source": [
    "#램프가격\n",
    "luxurious_lamp_price = 52.15"
   ]
  },
  {
   "cell_type": "code",
   "execution_count": 11,
   "id": "36e1ba65-b8e1-441f-8c90-4e73edb49e88",
   "metadata": {},
   "outputs": [],
   "source": [
    "#할인율\n",
    "sales_tax = 0.088"
   ]
  },
  {
   "cell_type": "code",
   "execution_count": 12,
   "id": "febcb643-f180-4e8b-887f-daa31c11d500",
   "metadata": {},
   "outputs": [],
   "source": [
    "#첫번째 고객 비용 집계 아무것도 구매하지 않아서 0으로 설정\n",
    "customer_one_total = 0.000"
   ]
  },
  {
   "cell_type": "code",
   "execution_count": 13,
   "id": "f5c880b1-a894-4702-81d3-2838986dab6b",
   "metadata": {},
   "outputs": [],
   "source": [
    "#구매를 할 때 설명 추가함\n",
    "customer_one_itemization = \"\""
   ]
  },
  {
   "cell_type": "code",
   "execution_count": 14,
   "id": "5dceefe7-88b7-49ff-becf-53d065025cb7",
   "metadata": {},
   "outputs": [],
   "source": [
    "#총 가격에 의자 가격 추가\n",
    "customer_one_total += lovely_loveseat_price\n",
    "\n",
    "#아이템 목록에 의자 설명 추가\n",
    "customer_one_itemization += lovely_loveseat_description\n",
    "\n"
   ]
  },
  {
   "cell_type": "code",
   "execution_count": 15,
   "id": "18d8a864-dae5-47d9-8fdb-698a1a96f236",
   "metadata": {},
   "outputs": [],
   "source": [
    "#총 가격에 램프 가격 추가\n",
    "customer_one_total += luxurious_lamp_price\n",
    "\n",
    "#아이템 목록에 램프 설명 추가\n",
    "customer_one_itemization += luxurious_lamp_description\n"
   ]
  },
  {
   "cell_type": "code",
   "execution_count": 16,
   "id": "f0ef3f61-f6da-4377-84eb-edc5a9c40a05",
   "metadata": {},
   "outputs": [],
   "source": [
    "#고객의 총 비용에 판매세를 더한다\n",
    "customer_one_tax = customer_one_total + sales_tax"
   ]
  },
  {
   "cell_type": "code",
   "execution_count": 20,
   "id": "5f47e6b3-501f-46a0-ad12-20f3b575a2eb",
   "metadata": {},
   "outputs": [
    {
     "name": "stdout",
     "output_type": "stream",
     "text": [
      "Customer One Items: \n",
      "\n",
      "Lovely Loveseat. Tufted polyester blend on wood. 32 inches high x 40 inches wide x 30 inches deep. Red or white.Luxurious Lamp. Glass and iron. 36 inches tall. Brown with cream shade.  \n",
      "\n",
      "Customer One Total:\n"
     ]
    }
   ],
   "source": [
    "#영수증 작성\n",
    "print(\"Customer One Items:\", \"\\n\")\n",
    "print(customer_one_itemization, \"\\n\")\n",
    "print(\"Customer One Total:\")\n"
   ]
  },
  {
   "cell_type": "code",
   "execution_count": 22,
   "id": "596c6798-c1d9-4f19-839b-4557b95f066d",
   "metadata": {},
   "outputs": [
    {
     "name": "stdout",
     "output_type": "stream",
     "text": [
      "612.3879999999999\n"
     ]
    }
   ],
   "source": [
    "#가격 목록 출력\n",
    "\n",
    "print(customer_one_total + customer_one_tax)"
   ]
  }
 ],
 "metadata": {
  "kernelspec": {
   "display_name": "Python 3 (ipykernel)",
   "language": "python",
   "name": "python3"
  },
  "language_info": {
   "codemirror_mode": {
    "name": "ipython",
    "version": 3
   },
   "file_extension": ".py",
   "mimetype": "text/x-python",
   "name": "python",
   "nbconvert_exporter": "python",
   "pygments_lexer": "ipython3",
   "version": "3.9.12"
  }
 },
 "nbformat": 4,
 "nbformat_minor": 5
}
