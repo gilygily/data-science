{
 "cells": [
  {
   "cell_type": "code",
   "execution_count": 1,
   "id": "254129f8-787c-46a2-80b6-2877386c1c6f",
   "metadata": {},
   "outputs": [],
   "source": [
    "#Hairstyle 선언\n",
    "hairstyles = [\"bouffant\", \"pixie\", \"dreadlocks\", \"crew\", \"bowl\", \"bob\", \"mohawk\", \"flattop\"]"
   ]
  },
  {
   "cell_type": "code",
   "execution_count": 2,
   "id": "d3cd04e4-c779-4954-acd3-cc154f08975c",
   "metadata": {},
   "outputs": [],
   "source": [
    "#pirces 선언\n",
    "prices = [30, 25, 40, 20, 20, 35, 50, 35]"
   ]
  },
  {
   "cell_type": "code",
   "execution_count": 3,
   "id": "53669aee-8591-4471-97e7-b028a6afc8bb",
   "metadata": {},
   "outputs": [],
   "source": [
    "#last_week 지난주 헤어스타일 건 수\n",
    "last_week = [2, 3, 5, 8, 4, 4, 6, 2]"
   ]
  },
  {
   "cell_type": "code",
   "execution_count": 6,
   "id": "3c8e54f8-e28a-42c1-b2fb-b070e3cb3613",
   "metadata": {},
   "outputs": [
    {
     "name": "stdout",
     "output_type": "stream",
     "text": [
      "Average pirce is 31.875\n"
     ]
    }
   ],
   "source": [
    "#total_price 선언\n",
    "total_price = 0\n",
    "for price in prices:\n",
    "    total_price += price\n",
    "    \n",
    "#평균값 average_price 선언\n",
    "average_price = total_price / len(prices)\n",
    "\n",
    "print(\"Average pirce is \" + str(average_price))\n",
    "    \n"
   ]
  },
  {
   "cell_type": "code",
   "execution_count": 12,
   "id": "98a0f2c9-1ab1-44e7-a81c-8cfb1cb9f3e3",
   "metadata": {},
   "outputs": [
    {
     "name": "stdout",
     "output_type": "stream",
     "text": [
      "[25, 20, 35, 15, 15, 30, 45, 30]\n"
     ]
    }
   ],
   "source": [
    "# prices에서 -5 값을 new_prices에 선언\n",
    "new_prices = [price -5 for price in prices]\n",
    "\n",
    "print(new_prices)"
   ]
  },
  {
   "cell_type": "code",
   "execution_count": 21,
   "id": "5326301d-d5a2-4c4b-8680-2122236e7903",
   "metadata": {},
   "outputs": [
    {
     "name": "stdout",
     "output_type": "stream",
     "text": [
      "1085\n"
     ]
    }
   ],
   "source": [
    "#total_revenue 0으로 선언\n",
    "total_revenue = 0\n",
    "for i in range(len(hairstyles)):\n",
    "    total_revenue += prices[i] * last_week[i]\n",
    "    \n",
    "print(total_revenue)"
   ]
  },
  {
   "cell_type": "code",
   "execution_count": 23,
   "id": "2c9e7641-d632-4d5b-aa91-eae632205fee",
   "metadata": {},
   "outputs": [
    {
     "name": "stdout",
     "output_type": "stream",
     "text": [
      "Average daily revenue is 155.0\n"
     ]
    }
   ],
   "source": [
    "average_daily_revenue = total_revenue / 7\n",
    "print(\"Average daily revenue is \" + str(average_daily_revenue))"
   ]
  },
  {
   "cell_type": "code",
   "execution_count": 24,
   "id": "0604f1fb-401a-4131-aa54-c644f5066304",
   "metadata": {},
   "outputs": [
    {
     "name": "stdout",
     "output_type": "stream",
     "text": [
      "['bouffant', 'pixie', 'crew', 'bowl']\n"
     ]
    }
   ],
   "source": [
    "#cuts_under_3D에 30달러 미만 헤어스타일을 구함\n",
    "cuts_under_3D = [hairstyles[i] for i in range(len(new_prices)) if new_prices[i] < 30]\n",
    "print(cuts_under_3D)"
   ]
  }
 ],
 "metadata": {
  "kernelspec": {
   "display_name": "Python 3 (ipykernel)",
   "language": "python",
   "name": "python3"
  },
  "language_info": {
   "codemirror_mode": {
    "name": "ipython",
    "version": 3
   },
   "file_extension": ".py",
   "mimetype": "text/x-python",
   "name": "python",
   "nbconvert_exporter": "python",
   "pygments_lexer": "ipython3",
   "version": "3.9.12"
  }
 },
 "nbformat": 4,
 "nbformat_minor": 5
}
