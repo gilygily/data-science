{
 "cells": [
  {
   "cell_type": "code",
   "execution_count": 4,
   "id": "5128c14b-a698-494e-b5dc-abafbc3ced77",
   "metadata": {},
   "outputs": [],
   "source": [
    "# 달 리스트 생성\n",
    "month = ['쌍', '쇠', '복', '돌', '팽', '육', '쌍', '개', '칠', '갑', '삼', '방']"
   ]
  },
  {
   "cell_type": "code",
   "execution_count": 5,
   "id": "273d704a-d98e-44b8-a7d3-4f5fa1e1aec2",
   "metadata": {},
   "outputs": [],
   "source": [
    "# 일 리스트 생성\n",
    "day = ['봉', '구', '욕', '포', '똥', '삼', '식', '석', '놈', '님', '년', '돌', '단', '득', '방', '질', '장', '걸', '래', '룡', '동', '순', '자', '박', '창', '언', '것', '포', '만', '단', '국']\n"
   ]
  },
  {
   "cell_type": "code",
   "execution_count": 12,
   "id": "83c64d64-d092-41ef-bbf8-189aa1cdafcf",
   "metadata": {},
   "outputs": [
    {
     "name": "stdout",
     "output_type": "stream",
     "text": [
      "당신의 조선시대 이름은김 개 똥입니다.\n",
      "None\n"
     ]
    }
   ],
   "source": [
    "# month와 day에 -1값을 넣어줌 리스트는 0부터 시작하기 때문\n",
    "def get_my_chosun_name(family_name, my_month, my_day):\n",
    "    return print(\"당신의 조선시대 이름은\" + family_name, month[my_month-1], day[my_day-1] + \"입니다.\")\n",
    "\n",
    "#김개똥 이름 만들기\n",
    "\n",
    "print(get_my_chosun_name('김', 8, 5))"
   ]
  }
 ],
 "metadata": {
  "kernelspec": {
   "display_name": "Python 3 (ipykernel)",
   "language": "python",
   "name": "python3"
  },
  "language_info": {
   "codemirror_mode": {
    "name": "ipython",
    "version": 3
   },
   "file_extension": ".py",
   "mimetype": "text/x-python",
   "name": "python",
   "nbconvert_exporter": "python",
   "pygments_lexer": "ipython3",
   "version": "3.9.12"
  }
 },
 "nbformat": 4,
 "nbformat_minor": 5
}
