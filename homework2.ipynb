{
 "cells": [
  {
   "cell_type": "code",
   "execution_count": 4,
   "id": "959563d1-81c8-4e5a-baf0-b262a1d23f2e",
   "metadata": {},
   "outputs": [],
   "source": [
    "#목록 생성\n",
    "subjects = [\"physics\", \"calculus\", \"poetry\", \"history\"]\n",
    "\n",
    "#성적 목록 생성\n",
    "grades = [98, 97, 85, 88]"
   ]
  },
  {
   "cell_type": "code",
   "execution_count": 51,
   "id": "f49cb49d-0838-46e2-ac2b-94e6ec66f2dd",
   "metadata": {},
   "outputs": [
    {
     "name": "stdout",
     "output_type": "stream",
     "text": [
      "[['physics', 98], ['calculus', 97], ['poetry', 85], ['history', 88]]\n"
     ]
    }
   ],
   "source": [
    "#두개를 gradebooks에 2차원으로 더함\n",
    "gradebooks = [[\"physics\", 98], [\"calculus\", 97], [\"poetry\", 85], [\"history\", 88]]  \n",
    "print(gradebooks)"
   ]
  },
  {
   "cell_type": "code",
   "execution_count": 52,
   "id": "7c229a11-bca0-4e36-abee-d9caba705e4d",
   "metadata": {},
   "outputs": [
    {
     "data": {
      "text/plain": [
       "[['physics', 98],\n",
       " ['calculus', 97],\n",
       " ['poetry', 85],\n",
       " ['history', 88],\n",
       " ['computer science', 100],\n",
       " ['visual arts', 93]]"
      ]
     },
     "execution_count": 52,
     "metadata": {},
     "output_type": "execute_result"
    }
   ],
   "source": [
    "#.append를 사용하여 리스트에 추가하기\n",
    "gradebooks.append([\"computer science\", 100])\n",
    "gradebooks.append([\"visual arts\", 93])\n",
    "\n",
    "gradebooks"
   ]
  },
  {
   "cell_type": "code",
   "execution_count": 53,
   "id": "3cfa601b-a687-4882-ae38-03ab56aae49b",
   "metadata": {},
   "outputs": [
    {
     "name": "stdout",
     "output_type": "stream",
     "text": [
      "[['physics', 98], ['calculus', 97], ['poetry', 85], ['history', 88], ['computer science', 100], ['visual arts', 98]]\n"
     ]
    }
   ],
   "source": [
    "#예술 수업 5점 추가로 인한 리스트 수정\n",
    "\n",
    "gradebooks[5][1] = 98\n",
    "print(gradebooks)"
   ]
  },
  {
   "cell_type": "code",
   "execution_count": 54,
   "id": "98e5a80c-320e-4671-bb98-e31ca02a2632",
   "metadata": {},
   "outputs": [
    {
     "name": "stdout",
     "output_type": "stream",
     "text": [
      "[['physics', 98], ['calculus', 97], ['poetry'], ['history', 88], ['computer science', 100], ['visual arts', 98]]\n"
     ]
    },
    {
     "data": {
      "text/plain": [
       "[['physics', 98],\n",
       " ['calculus', 97],\n",
       " ['poetry', 'pass'],\n",
       " ['history', 88],\n",
       " ['computer science', 100],\n",
       " ['visual arts', 98]]"
      ]
     },
     "execution_count": 54,
     "metadata": {},
     "output_type": "execute_result"
    }
   ],
   "source": [
    "#리스트에서 시 수업 성적 삭제하기\n",
    "\n",
    "gradebooks[2].remove(85)\n",
    "print(gradebooks)\n",
    "\n",
    "#시 수업 성적이 없어진 자리에 문자열 pass추가하기\n",
    "\n",
    "gradebooks[2].append(\"pass\")\n",
    "gradebooks"
   ]
  },
  {
   "cell_type": "code",
   "execution_count": 56,
   "id": "7e70afc2-f13a-429b-8a7b-0db38efa33c3",
   "metadata": {},
   "outputs": [],
   "source": [
    "#last_semester_gradebook 선언\n",
    "last_semester_gradebook = [[\"politics\", 80], [\"latin\", 96], [\"dance\", 97], [\"architecture\", 65]]\n"
   ]
  },
  {
   "cell_type": "code",
   "execution_count": 57,
   "id": "5467180e-971d-425a-94bf-c7058c26e8b9",
   "metadata": {},
   "outputs": [
    {
     "name": "stdout",
     "output_type": "stream",
     "text": [
      "[['physics', 98], ['calculus', 97], ['poetry', 'pass'], ['history', 88], ['computer science', 100], ['visual arts', 98], ['politics', 80], ['latin', 96], ['dance', 97], ['architecture', 65]]\n"
     ]
    }
   ],
   "source": [
    "full_gradebook = gradebooks + last_semester_gradebook\n",
    "print(full_gradebook)"
   ]
  }
 ],
 "metadata": {
  "kernelspec": {
   "display_name": "Python 3 (ipykernel)",
   "language": "python",
   "name": "python3"
  },
  "language_info": {
   "codemirror_mode": {
    "name": "ipython",
    "version": 3
   },
   "file_extension": ".py",
   "mimetype": "text/x-python",
   "name": "python",
   "nbconvert_exporter": "python",
   "pygments_lexer": "ipython3",
   "version": "3.9.12"
  }
 },
 "nbformat": 4,
 "nbformat_minor": 5
}
